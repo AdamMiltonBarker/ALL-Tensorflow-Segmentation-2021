{
 "cells": [
  {
   "cell_type": "markdown",
   "metadata": {},
   "source": [
    "# Peter Moss Acute Myeloid & Lymphoblastic Leukemia AI Research Project\n",
    "## Acute Lymphoblastic Leukemia Arduino Nano 33 BLE Classifier\n",
    "\n",
    "![Acute Lymphoblastic Leukemia Arduino Nano 33 BLE Classifier](../assets/images/project-banner.jpg)"
   ]
  },
  {
   "cell_type": "markdown",
   "metadata": {},
   "source": [
    "# Introduction\n",
    "\n",
    "The **Acute Lypmhoblastic Leukemia Arduino Nano 33 BLE Sense Classifier** is an experiment to explore how low powered microcontrollers, specifically the Arduino Nano 33 BLE Sense, can be used to detect Acute Lymphoblastic Leukemia. The Arduino Nano 33 BLE Sense is the latest Arduino Board  which supports  Tensorflow Lite, allowing machine learning on Arduino. \n",
    "\n",
    "The motivation for this project was to explore how low powered devices such as Arduino can be used to detect Acute Lymphoblastic Leukemia. The project will be submitted to the Tensorflow For Microcontroller Challenge and the Eyes on Edge: tinyML Vision Challenge."
   ]
  },
  {
   "cell_type": "markdown",
   "metadata": {},
   "source": [
    "# DISCLAIMER\n",
    "\n",
    "_This project should be used for research purposes only. The purpose of the project is to show the potential of Artificial Intelligence for medical support systems such as diagnostic systems._\n",
    "\n",
    "_Although the model is accurate and shows good results both on paper and in real world testing, it is trained on a small amount of data and needs to be trained on larger datasets to really evaluate it's accuracy._\n",
    "\n",
    "_Developers that have contributed to this repository have experience in using Artificial Intelligence for detecting certain types of cancer. They are not doctors, medical or cancer experts._"
   ]
  },
  {
   "cell_type": "markdown",
   "metadata": {},
   "source": [
    "# Software\n",
    "\n",
    "To use this project you will need to install the following software:\n",
    "\n",
    "## DEVELOPER TO LIST REQUIRED SOFTWARE"
   ]
  },
  {
   "cell_type": "markdown",
   "metadata": {},
   "source": [
    "# Installation\n",
    "\n",
    "Before you can begin this tutorial you need to follow the [installation guide](https://github.com/AMLResearchProject/ALL-Arduino-Nano-33-BLE-Sense-Classifier/blob/main/docs/installation/notebook-trainer.md) to install the relevant software and setup your environment."
   ]
  },
  {
   "cell_type": "markdown",
   "metadata": {},
   "source": [
    "# Import Modules"
   ]
  },
  {
   "cell_type": "code",
   "execution_count": null,
   "metadata": {},
   "outputs": [],
   "source": [
    "# DEVELOPER TO IMPORT MODULES"
   ]
  },
  {
   "cell_type": "markdown",
   "metadata": {},
   "source": [
    "# Set Global Variables"
   ]
  },
  {
   "cell_type": "code",
   "execution_count": null,
   "metadata": {},
   "outputs": [],
   "source": [
    "# DEVELOPER TO SET GLOBAL VARIABLES"
   ]
  },
  {
   "cell_type": "markdown",
   "metadata": {},
   "source": [
    "# Data\n",
    "\n",
    "## DEVELOPER TO DESCRIBE DATASET USED"
   ]
  },
  {
   "cell_type": "markdown",
   "metadata": {},
   "source": [
    "## Data Preprocessing \n",
    "\n",
    "In this part of the notebook we will create the methods used for processing the data ready for training."
   ]
  },
  {
   "cell_type": "markdown",
   "metadata": {},
   "source": [
    "### Testing Data\n",
    "\n",
    "First we need to remove the test data that we will use for testing the classifier later from the training data folder. We remove these images before the training so that the classifier does not learn them during training. The following cell provides the function to move the test data to the **model/data/test** folder: "
   ]
  },
  {
   "cell_type": "code",
   "execution_count": null,
   "metadata": {},
   "outputs": [],
   "source": [
    "def remove_testing():\n",
    "    \"\"\" Removes the testing images from the dataset. \"\"\"\n",
    "\n",
    "    for img in testData:\n",
    "        original = trainDataDir+img\n",
    "        destination = testDataDir+img\n",
    "        pathlib.Path(original).rename(destination)\n",
    "        print(original + \" moved to \" + destination)\n",
    "        cv2.imwrite(destination, cv2.resize(cv2.imread(destination),\n",
    "                                            (dim, dim)))\n",
    "        print(\"Resized \" + destination)"
   ]
  },
  {
   "cell_type": "markdown",
   "metadata": {},
   "source": [
    "### Augmentation\n",
    "\n",
    "We will create an augmented dataset based on the [Leukemia Blood Cell Image Classification Using Convolutional Neural Network](http://www.ijcte.org/vol10/1198-H0012.pdf \"Leukemia Blood Cell Image Classification Using Convolutional Neural Network\") by T. T. P. Thanh, Caleb Vununu, Sukhrob Atoev, Suk-Hwan Lee, and Ki-Ryong Kwon."
   ]
  },
  {
   "cell_type": "code",
   "execution_count": null,
   "metadata": {},
   "outputs": [],
   "source": [
    "## DEVELOPER TO COMPLETE AUGMENTATION FUNCTIONS"
   ]
  },
  {
   "cell_type": "code",
   "execution_count": 1,
   "metadata": {},
   "outputs": [],
   "source": [
    "def preprocess():\n",
    "    \"\"\" Preprocesses the data. \"\"\"\n",
    "    \n",
    "    # DEVELOPER TO COMPLETE DATA PREPROCESSING CODE"
   ]
  },
  {
   "cell_type": "markdown",
   "metadata": {},
   "source": [
    "## Data Preparation"
   ]
  },
  {
   "cell_type": "code",
   "execution_count": null,
   "metadata": {},
   "outputs": [],
   "source": [
    "# DEVELOPER TO COMPLETE DATA PREPARATION CODE"
   ]
  },
  {
   "cell_type": "markdown",
   "metadata": {},
   "source": [
    "## Data Split  "
   ]
  },
  {
   "cell_type": "code",
   "execution_count": 2,
   "metadata": {},
   "outputs": [],
   "source": [
    "def get_split(data, labels):\n",
    "    \"\"\" Splits the data and labels creating training and validation datasets. \"\"\"\n",
    "\n",
    "    # DEVELOPER TO COMPLETE DATA SPLIT CODE"
   ]
  },
  {
   "cell_type": "markdown",
   "metadata": {},
   "source": [
    "## Process & Prepare Data"
   ]
  },
  {
   "cell_type": "code",
   "execution_count": 3,
   "metadata": {},
   "outputs": [],
   "source": [
    "# DEVELOPER TO COMPLETE DATA PROCESS AND PREPARATION EXECUTION CODE"
   ]
  },
  {
   "cell_type": "markdown",
   "metadata": {},
   "source": [
    "## Data Visualization  "
   ]
  },
  {
   "cell_type": "code",
   "execution_count": 4,
   "metadata": {},
   "outputs": [],
   "source": [
    "# DEVELOPER TO COMPLETE DATA VISUALIZATION CODE"
   ]
  },
  {
   "cell_type": "markdown",
   "metadata": {},
   "source": [
    "# Network\n",
    "## Build Network  "
   ]
  },
  {
   "cell_type": "code",
   "execution_count": 5,
   "metadata": {},
   "outputs": [],
   "source": [
    "def build_network():\n",
    "    \"\"\" Builds the network. \"\"\"\n",
    "\n",
    "    # DEVELOPER TO COMPLETE NETWORK CODE"
   ]
  },
  {
   "cell_type": "markdown",
   "metadata": {},
   "source": [
    "# Model\n",
    "## Train Model "
   ]
  },
  {
   "cell_type": "code",
   "execution_count": null,
   "metadata": {},
   "outputs": [],
   "source": [
    "def train(X_train, y_train, X_test, y_test):\n",
    "    \"\"\" Trains the model. \"\"\"\n",
    "    \n",
    "    # DEVELOPER TO COMPLETE MODEL TRAINING CODE"
   ]
  },
  {
   "cell_type": "markdown",
   "metadata": {},
   "source": [
    "## Save Model "
   ]
  },
  {
   "cell_type": "code",
   "execution_count": null,
   "metadata": {},
   "outputs": [],
   "source": [
    "def save_model_as_json(tf_model):\n",
    "    \"\"\" Saves the model as JSON \"\"\"\n",
    "\n",
    "    # DEVELOPER TO COMPLETE SAVE MODEL CODE"
   ]
  },
  {
   "cell_type": "markdown",
   "metadata": {},
   "source": [
    "## Save Weights"
   ]
  },
  {
   "cell_type": "code",
   "execution_count": null,
   "metadata": {},
   "outputs": [],
   "source": [
    "def save_weights(tf_model):\n",
    "    \"\"\" Saves the model weights \"\"\"\n",
    "    \n",
    "    # DEVELOPER TO COMPLETE SAVE WEIGHTS CODE"
   ]
  },
  {
   "cell_type": "markdown",
   "metadata": {},
   "source": [
    "## Evaluate Model  "
   ]
  },
  {
   "cell_type": "code",
   "execution_count": null,
   "metadata": {},
   "outputs": [],
   "source": [
    "def evaluate(tf_model, X_test, y_test):\n",
    "    \"\"\" Evaluates the model \"\"\"\n",
    "\n",
    "    # DEVELOPER TO COMPLETE EVALUATION CODE"
   ]
  },
  {
   "cell_type": "markdown",
   "metadata": {},
   "source": [
    "### Predictions"
   ]
  },
  {
   "cell_type": "code",
   "execution_count": null,
   "metadata": {},
   "outputs": [],
   "source": [
    "def predictions(tf_model, X_train, X_test):\n",
    "    \"\"\" Gets predictions. \"\"\"\n",
    "\n",
    "    # DEVELOPER TO COMPLETE PREDICTIONS CODE"
   ]
  },
  {
   "cell_type": "markdown",
   "metadata": {},
   "source": [
    "## Model Metrics \n",
    "\n",
    "### Accuracy"
   ]
  },
  {
   "cell_type": "code",
   "execution_count": null,
   "metadata": {},
   "outputs": [],
   "source": [
    "def plot_accuracy(history):\n",
    "    \"\"\" Plots the accuracy. \"\"\"\n",
    "\n",
    "    # DEVELOPER TO COMPLETE ACCURACY PLOT CODE"
   ]
  },
  {
   "cell_type": "markdown",
   "metadata": {},
   "source": [
    "### Loss"
   ]
  },
  {
   "cell_type": "code",
   "execution_count": null,
   "metadata": {},
   "outputs": [],
   "source": [
    "def plot_loss(history):\n",
    "    \"\"\" Plots the loss. \"\"\"\n",
    "\n",
    "    # DEVELOPER TO COMPLETE LOSS PLOT CODE"
   ]
  },
  {
   "cell_type": "markdown",
   "metadata": {},
   "source": [
    "### Precision"
   ]
  },
  {
   "cell_type": "code",
   "execution_count": null,
   "metadata": {},
   "outputs": [],
   "source": [
    "def plot_precision(history):\n",
    "    \"\"\" Plots the precision. \"\"\"\n",
    "\n",
    "    # DEVELOPER TO COMPLETE PRECISION PLOT CODE"
   ]
  },
  {
   "cell_type": "markdown",
   "metadata": {},
   "source": [
    "### AUC"
   ]
  },
  {
   "cell_type": "code",
   "execution_count": null,
   "metadata": {},
   "outputs": [],
   "source": [
    "def plot_auc(history):\n",
    "    \"\"\" Plots the AUC. \"\"\"\n",
    "\n",
    "    # DEVELOPER TO COMPLETE AUC PLOT CODE"
   ]
  },
  {
   "cell_type": "markdown",
   "metadata": {},
   "source": [
    "### Recall"
   ]
  },
  {
   "cell_type": "code",
   "execution_count": null,
   "metadata": {},
   "outputs": [],
   "source": [
    "def plot_recall(history):\n",
    "    \"\"\" Plots the recall. \"\"\"\n",
    "\n",
    "    # DEVELOPER TO COMPLETE RECALL PLOT CODE"
   ]
  },
  {
   "cell_type": "markdown",
   "metadata": {},
   "source": [
    "## Confusion Matrix"
   ]
  },
  {
   "cell_type": "code",
   "execution_count": 6,
   "metadata": {},
   "outputs": [],
   "source": [
    "def confusion_matrix_plot(y_test, test_preds):\n",
    "    \"\"\" Plots the confusion matrix. \"\"\"\n",
    "\n",
    "    # DEVELOPER TO COMPLETE CONFUSION MATRIX PLOT CODE"
   ]
  },
  {
   "cell_type": "markdown",
   "metadata": {},
   "source": [
    "# Figures Of Merit"
   ]
  },
  {
   "cell_type": "code",
   "execution_count": 7,
   "metadata": {},
   "outputs": [],
   "source": [
    "def figures_of_merit(self):\n",
    "    \"\"\" Calculates/prints the figures of merit.\n",
    "\n",
    "    https://homes.di.unimi.it/scotti/all/\n",
    "    \"\"\"\n",
    "\n",
    "    # DEVELOPER TO COMPLETE FIGURES OF MERIT CODE"
   ]
  },
  {
   "cell_type": "markdown",
   "metadata": {},
   "source": [
    "# Testing"
   ]
  },
  {
   "cell_type": "code",
   "execution_count": null,
   "metadata": {},
   "outputs": [],
   "source": [
    "def load():\n",
    "    \"\"\" Loads the model \"\"\"\n",
    "\n",
    "    # DEVELOPER TO COMPLETE MDOEL LOAD CODE"
   ]
  },
  {
   "cell_type": "code",
   "execution_count": null,
   "metadata": {},
   "outputs": [],
   "source": [
    "def reshape(img):\n",
    "    \"\"\" Reshapes an image. \"\"\"\n",
    "\n",
    "    # DEVELOPER TO COMPLETE RESHAPE CODE"
   ]
  },
  {
   "cell_type": "code",
   "execution_count": null,
   "metadata": {},
   "outputs": [],
   "source": [
    "def predict(model, img):\n",
    "    \"\"\" Gets a prediction for an image. \"\"\"\n",
    "\n",
    "    # DEVELOPER TO COMPLETE PREDICTION CODE"
   ]
  },
  {
   "cell_type": "code",
   "execution_count": null,
   "metadata": {},
   "outputs": [],
   "source": [
    "def test(model):\n",
    "    \"\"\" Test mode\n",
    "\n",
    "    Loops through the test directory and classifies the images.\n",
    "    \"\"\"\n",
    "\n",
    "    # DEVELOPER TO COMPLETE TEST CODE"
   ]
  },
  {
   "cell_type": "markdown",
   "metadata": {},
   "source": [
    "# Conclusion  \n",
    "\n",
    "**DEVELOPER TO PROVIDE PROJECT CONCLUSION**\n"
   ]
  },
  {
   "cell_type": "markdown",
   "metadata": {},
   "source": [
    "# Contributing\n",
    "Asociación de Investigacion en Inteligencia Artificial Para la Leucemia Peter Moss encourages and welcomes code contributions, bug fixes and enhancements from the Github community.\n",
    "\n",
    "Please read the [CONTRIBUTING](CONTRIBUTING.md \"CONTRIBUTING\") document for a full guide to forking our repositories and submitting your pull requests. You will also find our code of conduct in the [Code of Conduct](CODE-OF-CONDUCT.md) document.\n",
    "\n",
    "## Contributors\n",
    "\n",
    "    ## - DEVELOPER ADD CONTRIBUTORS\n",
    "\n",
    "&nbsp;\n",
    "\n",
    "# Versioning\n",
    "We use [SemVer](https://semver.org/) for versioning.\n",
    "\n",
    "&nbsp;\n",
    "\n",
    "# License\n",
    "This project is licensed under the **MIT License** - see the [LICENSE](/LICENSE \"LICENSE\") file for details.\n",
    "\n",
    "&nbsp;\n",
    "\n",
    "# Bugs/Issues\n",
    "We use the [repo issues](issues \"repo issues\") to track bugs and general requests related to using this project. See [CONTRIBUTING](CONTRIBUTING.md \"CONTRIBUTING\") for more info on how to submit bugs, feature requests and proposals."
   ]
  },
  {
   "cell_type": "code",
   "execution_count": null,
   "metadata": {},
   "outputs": [],
   "source": []
  }
 ],
 "metadata": {
  "kernelspec": {
   "display_name": "Python [conda env:.conda-all-nano-33-ble-sense] *",
   "language": "python",
   "name": "conda-env-.conda-all-nano-33-ble-sense-py"
  },
  "language_info": {
   "codemirror_mode": {
    "name": "ipython",
    "version": 3
   },
   "file_extension": ".py",
   "mimetype": "text/x-python",
   "name": "python",
   "nbconvert_exporter": "python",
   "pygments_lexer": "ipython3",
   "version": "3.7.11"
  }
 },
 "nbformat": 4,
 "nbformat_minor": 2
}
