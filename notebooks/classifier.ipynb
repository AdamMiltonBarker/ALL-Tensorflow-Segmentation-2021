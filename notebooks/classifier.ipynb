{
 "cells": [
  {
   "cell_type": "markdown",
   "source": [
    "# Peter Moss Acute Myeloid & Lymphoblastic Leukemia AI Research Project\n",
    "## Acute Lymphoblastic Leukemia Arduino Nano 33 BLE Classifier\n",
    "\n",
    "![Acute Lymphoblastic Leukemia Arduino Nano 33 BLE Classifier](../assets/images/project-banner.jpg)"
   ],
   "metadata": {}
  },
  {
   "cell_type": "markdown",
   "source": [
    "# Introduction\r\n",
    "\r\n",
    "**DEVELOPER TO ADD ABSTRACT**"
   ],
   "metadata": {}
  },
  {
   "cell_type": "markdown",
   "source": [
    "# DISCLAIMER\n",
    "\n",
    "_This project should be used for research purposes only. The purpose of the project is to show the potential of Artificial Intelligence for medical support systems such as diagnostic systems._\n",
    "\n",
    "_Although the model is accurate and shows good results both on paper and in real world testing, it is trained on a small amount of data and needs to be trained on larger datasets to really evaluate it's accuracy._\n",
    "\n",
    "_Developers that have contributed to this repository have experience in using Artificial Intelligence for detecting certain types of cancer. They are not doctors, medical or cancer experts._"
   ],
   "metadata": {}
  },
  {
   "cell_type": "markdown",
   "source": [
    "# Software\n",
    "\n",
    "To use this project you will need to install the following software:\n",
    "\n",
    "## DEVELOPER TO LIST REQUIRED SOFTWARE"
   ],
   "metadata": {}
  },
  {
   "cell_type": "markdown",
   "source": [
    "# Installation\n",
    "\n",
    "Before you can begin this tutorial you need to follow the [installation guide](https://github.com/AMLResearchProject/ALL-Arduino-Nano-33-BLE-Sense-Classifier/blob/main/docs/installation/notebook-trainer.md) to install the relevant software and setup your environment."
   ],
   "metadata": {}
  },
  {
   "cell_type": "markdown",
   "source": [
    "# Import Modules"
   ],
   "metadata": {}
  },
  {
   "cell_type": "code",
   "execution_count": null,
   "source": [
    "# DEVELOPER TO IMPORT MODULES"
   ],
   "outputs": [],
   "metadata": {}
  },
  {
   "cell_type": "markdown",
   "source": [
    "# Set Global Variables"
   ],
   "metadata": {}
  },
  {
   "cell_type": "code",
   "execution_count": null,
   "source": [
    "# DEVELOPER TO SET GLOBAL VARIABLES"
   ],
   "outputs": [],
   "metadata": {}
  },
  {
   "cell_type": "markdown",
   "source": [
    "# Data\n",
    "\n",
    "## DEVELOPER TO DESCRIBE DATASET USED"
   ],
   "metadata": {}
  },
  {
   "cell_type": "markdown",
   "source": [
    "## Data Preprocessing \n",
    "\n",
    "In this part of the notebook we will create the methods used for processing the data ready for training."
   ],
   "metadata": {}
  },
  {
   "cell_type": "markdown",
   "source": [
    "### Testing Data\n",
    "\n",
    "First we need to remove the test data that we will use for testing the classifier later from the training data folder. We remove these images before the training so that the classifier does not learn them during training. The following cell provides the function to move the test data to the **model/data/test** folder: "
   ],
   "metadata": {}
  },
  {
   "cell_type": "code",
   "execution_count": null,
   "source": [
    "def remove_testing():\r\n",
    "    \"\"\" Removes the testing images from the dataset. \"\"\"\r\n",
    "\r\n",
    "    for img in testData:\r\n",
    "        original = trainDataDir+img\r\n",
    "        destination = testDataDir+img\r\n",
    "        pathlib.Path(original).rename(destination)\r\n",
    "        print(original + \" moved to \" + destination)\r\n",
    "        cv2.imwrite(destination, cv2.resize(cv2.imread(destination),\r\n",
    "                                            (dim, dim)))\r\n",
    "        print(\"Resized \" + destination)"
   ],
   "outputs": [],
   "metadata": {}
  },
  {
   "cell_type": "markdown",
   "source": [
    "### Augmentation\n",
    "\n",
    "We will create an augmented dataset based on the [Leukemia Blood Cell Image Classification Using Convolutional Neural Network](http://www.ijcte.org/vol10/1198-H0012.pdf \"Leukemia Blood Cell Image Classification Using Convolutional Neural Network\") by T. T. P. Thanh, Caleb Vununu, Sukhrob Atoev, Suk-Hwan Lee, and Ki-Ryong Kwon."
   ],
   "metadata": {}
  },
  {
   "cell_type": "code",
   "execution_count": null,
   "source": [
    "## DEVELOPER TO COMPLETE AUGMENTATION FUNCTIONS"
   ],
   "outputs": [],
   "metadata": {}
  },
  {
   "cell_type": "code",
   "execution_count": 1,
   "source": [
    "def preprocess():\r\n",
    "    \"\"\" Preprocesses the data. \"\"\"\r\n",
    "    \r\n",
    "    # DEVELOPER TO COMPLETE DATA PREPROCESSING CODE"
   ],
   "outputs": [],
   "metadata": {}
  },
  {
   "cell_type": "markdown",
   "source": [
    "## Data Preparation"
   ],
   "metadata": {}
  },
  {
   "cell_type": "code",
   "execution_count": null,
   "source": [
    "# DEVELOPER TO COMPLETE DATA PREPARATION CODE"
   ],
   "outputs": [],
   "metadata": {}
  },
  {
   "cell_type": "markdown",
   "source": [
    "## Data Split  "
   ],
   "metadata": {}
  },
  {
   "cell_type": "code",
   "execution_count": 2,
   "source": [
    "def get_split(data, labels):\r\n",
    "    \"\"\" Splits the data and labels creating training and validation datasets. \"\"\"\r\n",
    "\r\n",
    "    # DEVELOPER TO COMPLETE DATA SPLIT CODE"
   ],
   "outputs": [],
   "metadata": {}
  },
  {
   "cell_type": "markdown",
   "source": [
    "## Process & Prepare Data"
   ],
   "metadata": {}
  },
  {
   "cell_type": "code",
   "execution_count": 3,
   "source": [
    "# DEVELOPER TO COMPLETE DATA PROCESS AND PREPARATION EXECUTION CODE"
   ],
   "outputs": [],
   "metadata": {}
  },
  {
   "cell_type": "markdown",
   "source": [
    "## Data Visualization  "
   ],
   "metadata": {}
  },
  {
   "cell_type": "code",
   "execution_count": 4,
   "source": [
    "# DEVELOPER TO COMPLETE DATA VISUALIZATION CODE"
   ],
   "outputs": [],
   "metadata": {}
  },
  {
   "cell_type": "markdown",
   "source": [
    "# Network\n",
    "## Build Network  "
   ],
   "metadata": {}
  },
  {
   "cell_type": "code",
   "execution_count": 5,
   "source": [
    "def build_network():\r\n",
    "    \"\"\" Builds the network. \"\"\"\r\n",
    "\r\n",
    "    # DEVELOPER TO COMPLETE NETWORK CODE"
   ],
   "outputs": [],
   "metadata": {}
  },
  {
   "cell_type": "markdown",
   "source": [
    "# Model\n",
    "## Train Model "
   ],
   "metadata": {}
  },
  {
   "cell_type": "code",
   "execution_count": null,
   "source": [
    "def train(X_train, y_train, X_test, y_test):\r\n",
    "    \"\"\" Trains the model. \"\"\"\r\n",
    "    \r\n",
    "    # DEVELOPER TO COMPLETE MODEL TRAINING CODE"
   ],
   "outputs": [],
   "metadata": {}
  },
  {
   "cell_type": "markdown",
   "source": [
    "## Save Model "
   ],
   "metadata": {}
  },
  {
   "cell_type": "code",
   "execution_count": null,
   "source": [
    "def save_model_as_json(tf_model):\r\n",
    "    \"\"\" Saves the model as JSON \"\"\"\r\n",
    "\r\n",
    "    # DEVELOPER TO COMPLETE SAVE MODEL CODE"
   ],
   "outputs": [],
   "metadata": {}
  },
  {
   "cell_type": "markdown",
   "source": [
    "## Save Weights"
   ],
   "metadata": {}
  },
  {
   "cell_type": "code",
   "execution_count": null,
   "source": [
    "def save_weights(tf_model):\r\n",
    "    \"\"\" Saves the model weights \"\"\"\r\n",
    "    \r\n",
    "    # DEVELOPER TO COMPLETE SAVE WEIGHTS CODE"
   ],
   "outputs": [],
   "metadata": {}
  },
  {
   "cell_type": "markdown",
   "source": [
    "## Evaluate Model  "
   ],
   "metadata": {}
  },
  {
   "cell_type": "code",
   "execution_count": null,
   "source": [
    "def evaluate(tf_model, X_test, y_test):\r\n",
    "    \"\"\" Evaluates the model \"\"\"\r\n",
    "\r\n",
    "    # DEVELOPER TO COMPLETE EVALUATION CODE"
   ],
   "outputs": [],
   "metadata": {}
  },
  {
   "cell_type": "markdown",
   "source": [
    "### Predictions"
   ],
   "metadata": {}
  },
  {
   "cell_type": "code",
   "execution_count": null,
   "source": [
    "def predictions(tf_model, X_train, X_test):\r\n",
    "    \"\"\" Gets predictions. \"\"\"\r\n",
    "\r\n",
    "    # DEVELOPER TO COMPLETE PREDICTIONS CODE"
   ],
   "outputs": [],
   "metadata": {}
  },
  {
   "cell_type": "markdown",
   "source": [
    "## Model Metrics \n",
    "\n",
    "### Accuracy"
   ],
   "metadata": {}
  },
  {
   "cell_type": "code",
   "execution_count": null,
   "source": [
    "def plot_accuracy(history):\r\n",
    "    \"\"\" Plots the accuracy. \"\"\"\r\n",
    "\r\n",
    "    # DEVELOPER TO COMPLETE ACCURACY PLOT CODE"
   ],
   "outputs": [],
   "metadata": {}
  },
  {
   "cell_type": "markdown",
   "source": [
    "### Loss"
   ],
   "metadata": {}
  },
  {
   "cell_type": "code",
   "execution_count": null,
   "source": [
    "def plot_loss(history):\r\n",
    "    \"\"\" Plots the loss. \"\"\"\r\n",
    "\r\n",
    "    # DEVELOPER TO COMPLETE LOSS PLOT CODE"
   ],
   "outputs": [],
   "metadata": {}
  },
  {
   "cell_type": "markdown",
   "source": [
    "### Precision"
   ],
   "metadata": {}
  },
  {
   "cell_type": "code",
   "execution_count": null,
   "source": [
    "def plot_precision(history):\r\n",
    "    \"\"\" Plots the precision. \"\"\"\r\n",
    "\r\n",
    "    # DEVELOPER TO COMPLETE PRECISION PLOT CODE"
   ],
   "outputs": [],
   "metadata": {}
  },
  {
   "cell_type": "markdown",
   "source": [
    "### AUC"
   ],
   "metadata": {}
  },
  {
   "cell_type": "code",
   "execution_count": null,
   "source": [
    "def plot_auc(history):\r\n",
    "    \"\"\" Plots the AUC. \"\"\"\r\n",
    "\r\n",
    "    # DEVELOPER TO COMPLETE AUC PLOT CODE"
   ],
   "outputs": [],
   "metadata": {}
  },
  {
   "cell_type": "markdown",
   "source": [
    "### Recall"
   ],
   "metadata": {}
  },
  {
   "cell_type": "code",
   "execution_count": null,
   "source": [
    "def plot_recall(history):\r\n",
    "    \"\"\" Plots the recall. \"\"\"\r\n",
    "\r\n",
    "    # DEVELOPER TO COMPLETE RECALL PLOT CODE"
   ],
   "outputs": [],
   "metadata": {}
  },
  {
   "cell_type": "markdown",
   "source": [
    "## Confusion Matrix"
   ],
   "metadata": {}
  },
  {
   "cell_type": "code",
   "execution_count": 6,
   "source": [
    "def confusion_matrix_plot(y_test, test_preds):\r\n",
    "    \"\"\" Plots the confusion matrix. \"\"\"\r\n",
    "\r\n",
    "    # DEVELOPER TO COMPLETE CONFUSION MATRIX PLOT CODE"
   ],
   "outputs": [],
   "metadata": {}
  },
  {
   "cell_type": "markdown",
   "source": [
    "# Figures Of Merit"
   ],
   "metadata": {}
  },
  {
   "cell_type": "code",
   "execution_count": 7,
   "source": [
    "def figures_of_merit(self):\r\n",
    "    \"\"\" Calculates/prints the figures of merit.\r\n",
    "\r\n",
    "    https://homes.di.unimi.it/scotti/all/\r\n",
    "    \"\"\"\r\n",
    "\r\n",
    "    # DEVELOPER TO COMPLETE FIGURES OF MERIT CODE"
   ],
   "outputs": [],
   "metadata": {}
  },
  {
   "cell_type": "markdown",
   "source": [
    "# Testing"
   ],
   "metadata": {}
  },
  {
   "cell_type": "code",
   "execution_count": null,
   "source": [
    "def load():\r\n",
    "    \"\"\" Loads the model \"\"\"\r\n",
    "\r\n",
    "    # DEVELOPER TO COMPLETE MDOEL LOAD CODE"
   ],
   "outputs": [],
   "metadata": {}
  },
  {
   "cell_type": "code",
   "execution_count": null,
   "source": [
    "def reshape(img):\r\n",
    "    \"\"\" Reshapes an image. \"\"\"\r\n",
    "\r\n",
    "    # DEVELOPER TO COMPLETE RESHAPE CODE"
   ],
   "outputs": [],
   "metadata": {}
  },
  {
   "cell_type": "code",
   "execution_count": null,
   "source": [
    "def predict(model, img):\r\n",
    "    \"\"\" Gets a prediction for an image. \"\"\"\r\n",
    "\r\n",
    "    # DEVELOPER TO COMPLETE PREDICTION CODE"
   ],
   "outputs": [],
   "metadata": {}
  },
  {
   "cell_type": "code",
   "execution_count": null,
   "source": [
    "def test(model):\r\n",
    "    \"\"\" Test mode\r\n",
    "\r\n",
    "    Loops through the test directory and classifies the images.\r\n",
    "    \"\"\"\r\n",
    "\r\n",
    "    # DEVELOPER TO COMPLETE TEST CODE"
   ],
   "outputs": [],
   "metadata": {}
  },
  {
   "cell_type": "markdown",
   "source": [
    "# Conclusion  \n",
    "\n",
    "**DEVELOPER TO PROVIDE PROJECT CONCLUSION**\n"
   ],
   "metadata": {}
  },
  {
   "cell_type": "markdown",
   "source": [
    "# Contributing\r\n",
    "Asociación de Investigacion en Inteligencia Artificial Para la Leucemia Peter Moss encourages and welcomes code contributions, bug fixes and enhancements from the Github community.\r\n",
    "\r\n",
    "Please read the [CONTRIBUTING](https://github.com/AMLResearchProject/Contributing-Guide/blob/main/CONTRIBUTING.md \"CONTRIBUTING\") document for a full guide to contributing to our research project. You will also find our code of conduct in the [Code of Conduct](https://github.com/AMLResearchProject/Contributing-Guide/blob/main/CODE-OF-CONDUCT.md) document.\r\n",
    "\r\n",
    "## Contributors\r\n",
    "- [Sumeet Vyas](https://www.leukemiaairesearch.com/association/volunteers/sumeet-vyas \"Sumeet Vyas\") - [Asociación de Investigacion en Inteligencia Artificial Para la Leucemia Peter Moss](https://www.leukemiaresearchassociation.ai \"Asociación de Investigacion en Inteligencia Artificial Para la Leucemia Peter Moss\") Deep Learning Engineer, Pune, India\r\n",
    "\r\n",
    "&nbsp;\r\n",
    "\r\n",
    "# Versioning\r\n",
    "We use [SemVer](https://semver.org/) for versioning.\r\n",
    "\r\n",
    "&nbsp;\r\n",
    "\r\n",
    "# License\r\n",
    "This project is licensed under the **MIT License** - see the [LICENSE](LICENSE \"LICENSE\") file for details.\r\n",
    "\r\n",
    "&nbsp;\r\n",
    "\r\n",
    "# Bugs/Issues\r\n",
    "We use the [repo issues](issues \"repo issues\") to track bugs and general requests related to using this project. See [CONTRIBUTING](https://github.com/AMLResearchProject/Contributing-Guide/blob/main/CONTRIBUTING.md \"CONTRIBUTING\") for more info on how to submit bugs, feature requests and proposals."
   ],
   "metadata": {}
  },
  {
   "cell_type": "code",
   "execution_count": null,
   "source": [],
   "outputs": [],
   "metadata": {}
  }
 ],
 "metadata": {
  "kernelspec": {
   "display_name": "Python [conda env:.conda-all-nano-33-ble-sense] *",
   "language": "python",
   "name": "conda-env-.conda-all-nano-33-ble-sense-py"
  },
  "language_info": {
   "codemirror_mode": {
    "name": "ipython",
    "version": 3
   },
   "file_extension": ".py",
   "mimetype": "text/x-python",
   "name": "python",
   "nbconvert_exporter": "python",
   "pygments_lexer": "ipython3",
   "version": "3.7.11"
  }
 },
 "nbformat": 4,
 "nbformat_minor": 2
}